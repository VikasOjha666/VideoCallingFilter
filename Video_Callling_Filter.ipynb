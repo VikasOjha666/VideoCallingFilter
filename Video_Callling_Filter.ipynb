{
  "nbformat": 4,
  "nbformat_minor": 0,
  "metadata": {
    "colab": {
      "name": "Video Callling Filter.ipynb",
      "provenance": [],
      "collapsed_sections": []
    },
    "kernelspec": {
      "name": "python3",
      "display_name": "Python 3"
    },
    "language_info": {
      "name": "python"
    }
  },
  "cells": [
    {
      "cell_type": "code",
      "source": [
        "#Downloading the experiment files.\n",
        "!gdown --id 1rLiYwui_vwmDttMrklbA4jKlixevpy4_\n",
        "!gdown --id 1Tx0y0XsBP4OASnuTA7IhIQoCHTuSeIGR\n",
        "!gdown --id 1YzyQnwBLZc-hTJ67ReQALOuYuq-vwsux"
      ],
      "metadata": {
        "id": "Zn-JKuNX449_"
      },
      "execution_count": null,
      "outputs": []
    },
    {
      "cell_type": "code",
      "execution_count": null,
      "metadata": {
        "id": "awM_ctB2T90c"
      },
      "outputs": [],
      "source": [
        "!pip install iglovikov_helper_functions\n",
        "!pip install people_segmentation  > /dev/null"
      ]
    },
    {
      "cell_type": "code",
      "source": [
        "import numpy as np\n",
        "import cv2\n",
        "import torch\n",
        "import albumentations as albu\n",
        "from iglovikov_helper_functions.utils.image_utils import load_rgb, pad, unpad\n",
        "from iglovikov_helper_functions.dl.pytorch.utils import tensor_from_rgb_image\n",
        "from people_segmentation.pre_trained_models import create_model\n",
        "import matplotlib.pyplot as plt\n",
        "%matplotlib inline\n",
        "\n",
        "model = create_model(\"Unet_2020-07-20\")\n",
        "model.eval();\n",
        "transform = albu.Compose([albu.Normalize(p=1)], p=1)"
      ],
      "metadata": {
        "id": "6-Wgc2B_UHfT"
      },
      "execution_count": null,
      "outputs": []
    },
    {
      "cell_type": "code",
      "source": [
        "image = load_rgb(\"/content/Robert-Downey.jpg\")"
      ],
      "metadata": {
        "id": "060DrNv-UbKa"
      },
      "execution_count": null,
      "outputs": []
    },
    {
      "cell_type": "code",
      "source": [
        "plt.imshow(image)"
      ],
      "metadata": {
        "id": "a8dg04qzX1Vg"
      },
      "execution_count": null,
      "outputs": []
    },
    {
      "cell_type": "code",
      "source": [
        "padded_image, pads = pad(image, factor=32, border=cv2.BORDER_CONSTANT)\n",
        "x = transform(image=padded_image)[\"image\"]\n",
        "x = torch.unsqueeze(tensor_from_rgb_image(x), 0)\n",
        "\n",
        "with torch.no_grad():\n",
        "  prediction = model(x)[0][0]\n",
        "\n",
        "mask = (prediction > 0).cpu().numpy().astype(np.uint8)\n",
        "mask = unpad(mask, pads)"
      ],
      "metadata": {
        "id": "oBftaHCUUhrG"
      },
      "execution_count": null,
      "outputs": []
    },
    {
      "cell_type": "code",
      "source": [
        "plt.imshow(mask,cmap='gray')"
      ],
      "metadata": {
        "id": "yfSvjmvGVc-8"
      },
      "execution_count": null,
      "outputs": []
    },
    {
      "cell_type": "code",
      "source": [
        "print(model)"
      ],
      "metadata": {
        "id": "Saqdfqt-eZJv"
      },
      "execution_count": null,
      "outputs": []
    },
    {
      "cell_type": "code",
      "source": [
        "black_img=np.full(mask.shape,0,dtype=np.uint8)\n",
        "stacked_img = np.stack((black_img,)*3, axis=-1)"
      ],
      "metadata": {
        "id": "iEqlYaG1VrpN"
      },
      "execution_count": null,
      "outputs": []
    },
    {
      "cell_type": "code",
      "source": [
        "stacked_img[mask==1]=image[mask==1]\n",
        "plt.imshow(stacked_img)"
      ],
      "metadata": {
        "id": "e0pLiYqHV_To"
      },
      "execution_count": null,
      "outputs": []
    },
    {
      "cell_type": "code",
      "source": [
        "h,w=stacked_img.shape[:-1]\n",
        "img2=cv2.cvtColor(cv2.imread('/content/landscape.jpg'),cv2.COLOR_BGR2RGB)\n",
        "img2=cv2.resize(img2,(w,h))\n",
        "stacked_img[mask!=1]=img2[mask!=1]\n",
        "plt.imshow(stacked_img)"
      ],
      "metadata": {
        "id": "XK-MmiGFWUr4"
      },
      "execution_count": null,
      "outputs": []
    },
    {
      "cell_type": "code",
      "source": [
        "def replace_background(img,background):\n",
        "  padded_image, pads = pad(img, factor=32, border=cv2.BORDER_CONSTANT)\n",
        "  x = transform(image=padded_image)[\"image\"]\n",
        "  x = torch.unsqueeze(tensor_from_rgb_image(x), 0)\n",
        "\n",
        "  with torch.no_grad():\n",
        "    prediction = model(x)[0][0]\n",
        "\n",
        "  mask = (prediction > 0).cpu().numpy().astype(np.uint8)\n",
        "  mask = unpad(mask, pads)\n",
        "\n",
        "  black_img=np.full(mask.shape,0,dtype=np.uint8)\n",
        "  stacked_img = np.stack((black_img,)*3, axis=-1)\n",
        "  stacked_img[mask==1]=img[mask==1]\n",
        "\n",
        "  h,w=stacked_img.shape[:-1]\n",
        "\n",
        "  background=cv2.resize(background,(w,h))\n",
        "  stacked_img[mask!=1]=background[mask!=1]\n",
        "\n",
        "  return stacked_img"
      ],
      "metadata": {
        "id": "0z1bxUT2XI89"
      },
      "execution_count": null,
      "outputs": []
    },
    {
      "cell_type": "code",
      "source": [
        "#Video frame background replacement.\n",
        "import cv2\n",
        "  \n",
        "background=cv2.cvtColor(cv2.imread('/content/landscape.jpg'),cv2.COLOR_BGR2RGB)\n",
        "cam = cv2.VideoCapture('/content/agai_robert.mp4')\n",
        "   \n",
        "if (cam.isOpened() == False): \n",
        "    print(\"Error reading video file\")\n",
        "   \n",
        "fourcc = cv2.VideoWriter_fourcc(*'XVID')\n",
        "vidwriter = cv2.VideoWriter('filtered_video.avi',fourcc, 20.0, (1280,720))\n",
        "\n",
        "# count=0\n",
        "while(True):\n",
        "    ret, frame = cam.read()\n",
        "    if ret == True: \n",
        "        frame=cv2.cvtColor(frame,cv2.COLOR_BGR2RGB)\n",
        "        r_img=replace_background(frame,background)\n",
        "        r_img=cv2.cvtColor(r_img,cv2.COLOR_RGB2BGR)\n",
        "        vidwriter.write(r_img)\n",
        "        if cv2.waitKey(1) & 0xFF == ord('s'):\n",
        "            break\n",
        "\n",
        "    else:\n",
        "        break\n",
        "  \n",
        "cam.release()\n",
        "vidwriter.release()\n",
        "    \n",
        "cv2.destroyAllWindows() \n",
        "print(\"Sucessfully processed the video.\")"
      ],
      "metadata": {
        "id": "5tTAqDPKalTX"
      },
      "execution_count": null,
      "outputs": []
    }
  ]
}